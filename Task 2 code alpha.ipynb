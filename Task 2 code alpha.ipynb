{
 "cells": [
  {
   "cell_type": "markdown",
   "id": "733f958e",
   "metadata": {},
   "source": [
    "# Lybraries Import"
   ]
  },
  {
   "cell_type": "code",
   "execution_count": 105,
   "id": "61751dd4",
   "metadata": {},
   "outputs": [],
   "source": [
    "import os\n",
    "import librosa\n",
    "import numpy as np\n",
    "import pandas as pd\n",
    "from tqdm import tqdm"
   ]
  },
  {
   "cell_type": "markdown",
   "id": "9d777483",
   "metadata": {},
   "source": [
    "# Load Audio"
   ]
  },
  {
   "cell_type": "code",
   "execution_count": 106,
   "id": "9f23fa39",
   "metadata": {},
   "outputs": [
    {
     "name": "stdout",
     "output_type": "stream",
     "text": [
      "Loaded: OAF_back_angry.wav | Sample rate: 24414 | Duration: 1.54 sec\n",
      "Loaded: OAF_bar_angry.wav | Sample rate: 24414 | Duration: 1.62 sec\n",
      "Loaded: OAF_base_angry.wav | Sample rate: 24414 | Duration: 1.54 sec\n",
      "Loaded: OAF_bath_angry.wav | Sample rate: 24414 | Duration: 1.61 sec\n",
      "Loaded: OAF_bean_angry.wav | Sample rate: 24414 | Duration: 1.40 sec\n",
      "Loaded: OAF_beg_angry.wav | Sample rate: 24414 | Duration: 1.55 sec\n",
      "Loaded: OAF_bite_angry.wav | Sample rate: 24414 | Duration: 1.43 sec\n",
      "Loaded: OAF_boat_angry.wav | Sample rate: 24414 | Duration: 1.33 sec\n",
      "Loaded: OAF_bone_angry.wav | Sample rate: 24414 | Duration: 1.67 sec\n",
      "Loaded: OAF_book_angry.wav | Sample rate: 24414 | Duration: 1.53 sec\n",
      "Loaded: OAF_bought_angry.wav | Sample rate: 24414 | Duration: 1.43 sec\n",
      "Loaded: OAF_burn_angry.wav | Sample rate: 24414 | Duration: 1.69 sec\n",
      "Loaded: OAF_cab_angry.wav | Sample rate: 24414 | Duration: 1.46 sec\n",
      "Loaded: OAF_calm_angry.wav | Sample rate: 24414 | Duration: 1.49 sec\n",
      "Loaded: OAF_came_angry.wav | Sample rate: 24414 | Duration: 1.63 sec\n",
      "Loaded: OAF_cause_angry.wav | Sample rate: 24414 | Duration: 1.70 sec\n",
      "Loaded: OAF_chain_angry.wav | Sample rate: 24414 | Duration: 1.60 sec\n",
      "Loaded: OAF_chair_angry.wav | Sample rate: 24414 | Duration: 1.61 sec\n",
      "Loaded: OAF_chalk_angry.wav | Sample rate: 24414 | Duration: 1.40 sec\n",
      "Loaded: OAF_chat_angry.wav | Sample rate: 24414 | Duration: 1.45 sec\n",
      "Loaded: OAF_check_angry.wav | Sample rate: 24414 | Duration: 1.65 sec\n",
      "Loaded: OAF_cheek_angry.wav | Sample rate: 24414 | Duration: 1.68 sec\n",
      "Loaded: OAF_chief_angry.wav | Sample rate: 24414 | Duration: 1.62 sec\n",
      "Loaded: OAF_choice_angry.wav | Sample rate: 24414 | Duration: 1.53 sec\n",
      "Loaded: OAF_cool_angry.wav | Sample rate: 24414 | Duration: 1.49 sec\n",
      "Loaded: OAF_dab_angry.wav | Sample rate: 24414 | Duration: 1.57 sec\n",
      "Loaded: OAF_date_angry.wav | Sample rate: 24414 | Duration: 1.46 sec\n",
      "Loaded: OAF_dead_angry.wav | Sample rate: 24414 | Duration: 1.48 sec\n",
      "Loaded: OAF_death_angry.wav | Sample rate: 24414 | Duration: 1.65 sec\n",
      "Loaded: OAF_deep_angry.wav | Sample rate: 24414 | Duration: 1.61 sec\n",
      "Loaded: OAF_dime_angry.wav | Sample rate: 24414 | Duration: 1.68 sec\n",
      "Loaded: OAF_dip_angry.wav | Sample rate: 24414 | Duration: 1.43 sec\n",
      "Loaded: OAF_ditch_angry.wav | Sample rate: 24414 | Duration: 1.55 sec\n",
      "Loaded: OAF_dodge_angry.wav | Sample rate: 24414 | Duration: 1.65 sec\n",
      "Loaded: OAF_dog_angry.wav | Sample rate: 24414 | Duration: 1.69 sec\n",
      "Loaded: OAF_doll_angry.wav | Sample rate: 24414 | Duration: 1.63 sec\n",
      "Loaded: OAF_door_angry.wav | Sample rate: 24414 | Duration: 1.54 sec\n",
      "Loaded: OAF_fail_angry.wav | Sample rate: 24414 | Duration: 1.55 sec\n",
      "Loaded: OAF_fall_angry.wav | Sample rate: 24414 | Duration: 1.43 sec\n",
      "Loaded: OAF_far_angry.wav | Sample rate: 24414 | Duration: 1.51 sec\n",
      "Loaded: OAF_fat_angry.wav | Sample rate: 24414 | Duration: 1.56 sec\n",
      "Loaded: OAF_fit_angry.wav | Sample rate: 24414 | Duration: 1.60 sec\n",
      "Loaded: OAF_five_angry.wav | Sample rate: 24414 | Duration: 1.59 sec\n",
      "Loaded: OAF_food_angry.wav | Sample rate: 24414 | Duration: 1.53 sec\n",
      "Loaded: OAF_gap_angry.wav | Sample rate: 24414 | Duration: 1.59 sec\n",
      "Loaded: OAF_gas_angry.wav | Sample rate: 24414 | Duration: 1.65 sec\n",
      "Loaded: OAF_gaze_angry.wav | Sample rate: 24414 | Duration: 1.69 sec\n",
      "Loaded: OAF_germ_angry.wav | Sample rate: 24414 | Duration: 1.48 sec\n",
      "Loaded: OAF_get_angry.wav | Sample rate: 24414 | Duration: 1.64 sec\n",
      "Loaded: OAF_gin_angry.wav | Sample rate: 24414 | Duration: 1.57 sec\n",
      "Loaded: OAF_goal_angry.wav | Sample rate: 24414 | Duration: 1.52 sec\n",
      "Loaded: OAF_good_angry.wav | Sample rate: 24414 | Duration: 1.49 sec\n",
      "Loaded: OAF_goose_angry.wav | Sample rate: 24414 | Duration: 1.53 sec\n",
      "Loaded: OAF_gun_angry.wav | Sample rate: 24414 | Duration: 1.54 sec\n",
      "Loaded: OAF_half_angry.wav | Sample rate: 24414 | Duration: 1.70 sec\n",
      "Loaded: OAF_hall_angry.wav | Sample rate: 24414 | Duration: 1.50 sec\n",
      "Loaded: OAF_hash_angry.wav | Sample rate: 24414 | Duration: 1.70 sec\n",
      "Loaded: OAF_hate_angry.wav | Sample rate: 24414 | Duration: 1.48 sec\n",
      "Loaded: OAF_have_angry.wav | Sample rate: 24414 | Duration: 1.65 sec\n",
      "Loaded: OAF_haze_angry.wav | Sample rate: 24414 | Duration: 1.56 sec\n",
      "Loaded: OAF_hire_angry.wav | Sample rate: 24414 | Duration: 1.51 sec\n",
      "Loaded: OAF_hit_angry.wav | Sample rate: 24414 | Duration: 1.36 sec\n",
      "Loaded: OAF_hole_angry.wav | Sample rate: 24414 | Duration: 1.67 sec\n",
      "Loaded: OAF_home_angry.wav | Sample rate: 24414 | Duration: 1.44 sec\n",
      "Loaded: OAF_hurl_angry.wav | Sample rate: 24414 | Duration: 1.60 sec\n",
      "Loaded: OAF_hush_angry.wav | Sample rate: 24414 | Duration: 1.55 sec\n",
      "Loaded: OAF_jail_angry.wav | Sample rate: 24414 | Duration: 1.47 sec\n",
      "Loaded: OAF_jar_angry.wav | Sample rate: 24414 | Duration: 1.56 sec\n",
      "Loaded: OAF_join_angry.wav | Sample rate: 24414 | Duration: 1.61 sec\n",
      "Loaded: OAF_judge_angry.wav | Sample rate: 24414 | Duration: 1.73 sec\n",
      "Loaded: OAF_jug_angry.wav | Sample rate: 24414 | Duration: 1.55 sec\n",
      "Loaded: OAF_juice_angry.wav | Sample rate: 24414 | Duration: 1.60 sec\n",
      "Loaded: OAF_keen_angry.wav | Sample rate: 24414 | Duration: 1.71 sec\n",
      "Loaded: OAF_keep_angry.wav | Sample rate: 24414 | Duration: 1.56 sec\n",
      "Loaded: OAF_keg_angry.wav | Sample rate: 24414 | Duration: 1.44 sec\n",
      "Loaded: OAF_kick_angry.wav | Sample rate: 24414 | Duration: 1.65 sec\n",
      "Loaded: OAF_kill_angry.wav | Sample rate: 24414 | Duration: 1.50 sec\n",
      "Loaded: OAF_king_angry.wav | Sample rate: 24414 | Duration: 1.66 sec\n",
      "Loaded: OAF_kite_angry.wav | Sample rate: 24414 | Duration: 1.49 sec\n",
      "Loaded: OAF_knock_angry.wav | Sample rate: 24414 | Duration: 1.80 sec\n",
      "Loaded: OAF_late_angry.wav | Sample rate: 24414 | Duration: 1.67 sec\n",
      "Loaded: OAF_laud_angry.wav | Sample rate: 24414 | Duration: 1.66 sec\n",
      "Loaded: OAF_lean_angry.wav | Sample rate: 24414 | Duration: 1.62 sec\n",
      "Loaded: OAF_learn_angry.wav | Sample rate: 24414 | Duration: 1.52 sec\n",
      "Loaded: OAF_lease_angry.wav | Sample rate: 24414 | Duration: 1.68 sec\n",
      "Loaded: OAF_lid_angry.wav | Sample rate: 24414 | Duration: 1.41 sec\n",
      "Loaded: OAF_life_angry.wav | Sample rate: 24414 | Duration: 1.63 sec\n",
      "Loaded: OAF_limb_angry.wav | Sample rate: 24414 | Duration: 1.62 sec\n",
      "Loaded: OAF_live_angry.wav | Sample rate: 24414 | Duration: 1.60 sec\n",
      "Loaded: OAF_loaf_angry.wav | Sample rate: 24414 | Duration: 1.68 sec\n",
      "Loaded: OAF_long_angry.wav | Sample rate: 24414 | Duration: 1.72 sec\n",
      "Loaded: OAF_lore_angry.wav | Sample rate: 24414 | Duration: 1.70 sec\n",
      "Loaded: OAF_lose_angry.wav | Sample rate: 24414 | Duration: 1.68 sec\n",
      "Loaded: OAF_lot_angry.wav | Sample rate: 24414 | Duration: 1.61 sec\n",
      "Loaded: OAF_love_angry.wav | Sample rate: 24414 | Duration: 1.56 sec\n",
      "Loaded: OAF_luck_angry.wav | Sample rate: 24414 | Duration: 1.61 sec\n",
      "Loaded: OAF_make_angry.wav | Sample rate: 24414 | Duration: 1.63 sec\n",
      "Loaded: OAF_match_angry.wav | Sample rate: 24414 | Duration: 1.68 sec\n",
      "Loaded: OAF_merge_angry.wav | Sample rate: 24414 | Duration: 1.62 sec\n",
      "Loaded: OAF_mess_angry.wav | Sample rate: 24414 | Duration: 1.70 sec\n",
      "Loaded: OAF_met_angry.wav | Sample rate: 24414 | Duration: 1.51 sec\n",
      "Loaded: OAF_mill_angry.wav | Sample rate: 24414 | Duration: 1.53 sec\n",
      "Loaded: OAF_mob_angry.wav | Sample rate: 24414 | Duration: 1.53 sec\n",
      "Loaded: OAF_mode_angry.wav | Sample rate: 24414 | Duration: 1.48 sec\n",
      "Loaded: OAF_mood_angry.wav | Sample rate: 24414 | Duration: 1.57 sec\n",
      "Loaded: OAF_moon_angry.wav | Sample rate: 24414 | Duration: 1.51 sec\n",
      "Loaded: OAF_mop_angry.wav | Sample rate: 24414 | Duration: 1.39 sec\n",
      "Loaded: OAF_mouse_angry.wav | Sample rate: 24414 | Duration: 1.65 sec\n",
      "Loaded: OAF_nag_angry.wav | Sample rate: 24414 | Duration: 1.46 sec\n",
      "Loaded: OAF_name_angry.wav | Sample rate: 24414 | Duration: 1.54 sec\n",
      "Loaded: OAF_near_angry.wav | Sample rate: 24414 | Duration: 1.52 sec\n",
      "Loaded: OAF_neat_angry.wav | Sample rate: 24414 | Duration: 1.68 sec\n",
      "Loaded: OAF_nice_angry.wav | Sample rate: 24414 | Duration: 1.62 sec\n",
      "Loaded: OAF_note_angry.wav | Sample rate: 24414 | Duration: 1.43 sec\n",
      "Loaded: OAF_numb_angry.wav | Sample rate: 24414 | Duration: 1.58 sec\n",
      "Loaded: OAF_pad_angry.wav | Sample rate: 24414 | Duration: 1.55 sec\n",
      "Loaded: OAF_page_angry.wav | Sample rate: 24414 | Duration: 1.51 sec\n",
      "Loaded: OAF_pain_angry.wav | Sample rate: 24414 | Duration: 1.55 sec\n",
      "Loaded: OAF_pass_angry.wav | Sample rate: 24414 | Duration: 1.63 sec\n",
      "Loaded: OAF_pearl_angry.wav | Sample rate: 24414 | Duration: 1.49 sec\n",
      "Loaded: OAF_peg_angry.wav | Sample rate: 24414 | Duration: 1.58 sec\n",
      "Loaded: OAF_perch_angry.wav | Sample rate: 24414 | Duration: 1.68 sec\n",
      "Loaded: OAF_phone_angry.wav | Sample rate: 24414 | Duration: 1.58 sec\n",
      "Loaded: OAF_pick_angry.wav | Sample rate: 24414 | Duration: 1.61 sec\n",
      "Loaded: OAF_pike_angry.wav | Sample rate: 24414 | Duration: 1.61 sec\n",
      "Loaded: OAF_pole_angry.wav | Sample rate: 24414 | Duration: 1.58 sec\n",
      "Loaded: OAF_pool_angry.wav | Sample rate: 24414 | Duration: 1.38 sec\n",
      "Loaded: OAF_puff_angry.wav | Sample rate: 24414 | Duration: 1.48 sec\n",
      "Loaded: OAF_rag_angry.wav | Sample rate: 24414 | Duration: 1.60 sec\n",
      "Loaded: OAF_raid_angry.wav | Sample rate: 24414 | Duration: 1.57 sec\n",
      "Loaded: OAF_rain_angry.wav | Sample rate: 24414 | Duration: 1.51 sec\n",
      "Loaded: OAF_raise_angry.wav | Sample rate: 24414 | Duration: 1.63 sec\n",
      "Loaded: OAF_rat_angry.wav | Sample rate: 24414 | Duration: 1.54 sec\n",
      "Loaded: OAF_reach_angry.wav | Sample rate: 24414 | Duration: 1.61 sec\n",
      "Loaded: OAF_read_angry.wav | Sample rate: 24414 | Duration: 1.53 sec\n",
      "Loaded: OAF_red_angry.wav | Sample rate: 24414 | Duration: 1.69 sec\n",
      "Loaded: OAF_ring_angry.wav | Sample rate: 24414 | Duration: 1.53 sec\n",
      "Loaded: OAF_ripe_angry.wav | Sample rate: 24414 | Duration: 1.74 sec\n",
      "Loaded: OAF_road_angry.wav | Sample rate: 24414 | Duration: 1.57 sec\n",
      "Loaded: OAF_room_angry.wav | Sample rate: 24414 | Duration: 1.54 sec\n",
      "Loaded: OAF_rose_angry.wav | Sample rate: 24414 | Duration: 1.86 sec\n",
      "Loaded: OAF_rot_angry.wav | Sample rate: 24414 | Duration: 1.37 sec\n",
      "Loaded: OAF_rough_angry.wav | Sample rate: 24414 | Duration: 1.72 sec\n",
      "Loaded: OAF_rush_angry.wav | Sample rate: 24414 | Duration: 1.65 sec\n",
      "Loaded: OAF_said_angry.wav | Sample rate: 24414 | Duration: 1.47 sec\n",
      "Loaded: OAF_sail_angry.wav | Sample rate: 24414 | Duration: 1.67 sec\n",
      "Loaded: OAF_search_angry.wav | Sample rate: 24414 | Duration: 1.70 sec\n",
      "Loaded: OAF_seize_angry.wav | Sample rate: 24414 | Duration: 1.76 sec\n",
      "Loaded: OAF_sell_angry.wav | Sample rate: 24414 | Duration: 1.41 sec\n",
      "Loaded: OAF_shack_angry.wav | Sample rate: 24414 | Duration: 1.49 sec\n",
      "Loaded: OAF_shall_angry.wav | Sample rate: 24414 | Duration: 1.68 sec\n",
      "Loaded: OAF_shawl_angry.wav | Sample rate: 24414 | Duration: 1.53 sec\n",
      "Loaded: OAF_sheep_angry.wav | Sample rate: 24414 | Duration: 1.68 sec\n",
      "Loaded: OAF_shirt_angry.wav | Sample rate: 24414 | Duration: 1.66 sec\n",
      "Loaded: OAF_should_angry.wav | Sample rate: 24414 | Duration: 1.60 sec\n",
      "Loaded: OAF_shout_angry.wav | Sample rate: 24414 | Duration: 1.40 sec\n",
      "Loaded: OAF_size_angry.wav | Sample rate: 24414 | Duration: 1.59 sec\n",
      "Loaded: OAF_soap_angry.wav | Sample rate: 24414 | Duration: 1.70 sec\n",
      "Loaded: OAF_soup_angry.wav | Sample rate: 24414 | Duration: 1.59 sec\n",
      "Loaded: OAF_sour_angry.wav | Sample rate: 24414 | Duration: 1.74 sec\n",
      "Loaded: OAF_south_angry.wav | Sample rate: 24414 | Duration: 1.52 sec\n",
      "Loaded: OAF_sub_angry.wav | Sample rate: 24414 | Duration: 1.37 sec\n",
      "Loaded: OAF_such_angry.wav | Sample rate: 24414 | Duration: 1.67 sec\n",
      "Loaded: OAF_sure_angry.wav | Sample rate: 24414 | Duration: 1.43 sec\n",
      "Loaded: OAF_take_angry.wav | Sample rate: 24414 | Duration: 1.46 sec\n",
      "Loaded: OAF_talk_angry.wav | Sample rate: 24414 | Duration: 1.52 sec\n",
      "Loaded: OAF_tape_angry.wav | Sample rate: 24414 | Duration: 1.68 sec\n",
      "Loaded: OAF_team_angry.wav | Sample rate: 24414 | Duration: 1.61 sec\n",
      "Loaded: OAF_tell_angry.wav | Sample rate: 24414 | Duration: 1.63 sec\n",
      "Loaded: OAF_thin_angry.wav | Sample rate: 24414 | Duration: 1.57 sec\n",
      "Loaded: OAF_third_angry.wav | Sample rate: 24414 | Duration: 1.38 sec\n",
      "Loaded: OAF_thought_angry.wav | Sample rate: 24414 | Duration: 1.51 sec\n",
      "Loaded: OAF_thumb_angry.wav | Sample rate: 24414 | Duration: 1.59 sec\n",
      "Loaded: OAF_time_angry.wav | Sample rate: 24414 | Duration: 1.63 sec\n",
      "Loaded: OAF_tip_angry.wav | Sample rate: 24414 | Duration: 1.34 sec\n",
      "Loaded: OAF_tire_angry.wav | Sample rate: 24414 | Duration: 1.65 sec\n",
      "Loaded: OAF_ton_angry.wav | Sample rate: 24414 | Duration: 1.50 sec\n",
      "Loaded: OAF_tool_angry.wav | Sample rate: 24414 | Duration: 1.51 sec\n",
      "Loaded: OAF_tough_angry.wav | Sample rate: 24414 | Duration: 1.47 sec\n",
      "Loaded: OAF_turn_angry.wav | Sample rate: 24414 | Duration: 1.50 sec\n",
      "Loaded: OAF_vine_angry.wav | Sample rate: 24414 | Duration: 1.49 sec\n",
      "Loaded: OAF_voice_angry.wav | Sample rate: 24414 | Duration: 1.59 sec\n",
      "Loaded: OAF_void_angry.wav | Sample rate: 24414 | Duration: 1.54 sec\n",
      "Loaded: OAF_vote_angry.wav | Sample rate: 24414 | Duration: 1.55 sec\n",
      "Loaded: OAF_wag_angry.wav | Sample rate: 24414 | Duration: 1.58 sec\n",
      "Loaded: OAF_walk_angry.wav | Sample rate: 24414 | Duration: 1.59 sec\n",
      "Loaded: OAF_wash_angry.wav | Sample rate: 24414 | Duration: 1.80 sec\n",
      "Loaded: OAF_week_angry.wav | Sample rate: 24414 | Duration: 1.56 sec\n",
      "Loaded: OAF_wheat_angry.wav | Sample rate: 24414 | Duration: 1.53 sec\n",
      "Loaded: OAF_when_angry.wav | Sample rate: 24414 | Duration: 1.64 sec\n",
      "Loaded: OAF_which_angry.wav | Sample rate: 24414 | Duration: 1.43 sec\n",
      "Loaded: OAF_whip_angry.wav | Sample rate: 24414 | Duration: 1.29 sec\n",
      "Loaded: OAF_white_angry.wav | Sample rate: 24414 | Duration: 1.48 sec\n",
      "Loaded: OAF_wife_angry.wav | Sample rate: 24414 | Duration: 1.70 sec\n",
      "Loaded: OAF_wire_angry.wav | Sample rate: 24414 | Duration: 1.60 sec\n",
      "Loaded: OAF_witch_angry.wav | Sample rate: 24414 | Duration: 1.51 sec\n",
      "Loaded: OAF_yearn_angry.wav | Sample rate: 24414 | Duration: 1.63 sec\n",
      "Loaded: OAF_yes_angry.wav | Sample rate: 24414 | Duration: 1.55 sec\n",
      "Loaded: OAF_young_angry.wav | Sample rate: 24414 | Duration: 1.54 sec\n",
      "Loaded: OAF_youth_angry.wav | Sample rate: 24414 | Duration: 1.58 sec\n"
     ]
    }
   ],
   "source": [
    "\n",
    "audio_dir = r\"D:\\AI ML\\Internship work\\TESS Toronto emotional speech set data\\OAF_angry\"\n",
    "audio_files = [f for f in os.listdir(audio_dir) if f.endswith(('.wav', '.mp3', '.ogg', '.flac'))]\n",
    "\n",
    "for audio_file in audio_files:\n",
    "    file_path = os.path.join(audio_dir, audio_file)\n",
    "    audio, sr = librosa.load(file_path, sr=None)\n",
    "    print(f\"Loaded: {audio_file} | Sample rate: {sr} | Duration: {len(audio)/sr:.2f} sec\")\n"
   ]
  },
  {
   "cell_type": "code",
   "execution_count": 107,
   "id": "e0cf5173",
   "metadata": {},
   "outputs": [
    {
     "name": "stdout",
     "output_type": "stream",
     "text": [
      "Total files loaded: 200\n"
     ]
    }
   ],
   "source": [
    "print(f\"Total files loaded: {len(audio_files)}\")"
   ]
  },
  {
   "cell_type": "code",
   "execution_count": 108,
   "id": "3c96562c",
   "metadata": {},
   "outputs": [
    {
     "name": "stdout",
     "output_type": "stream",
     "text": [
      "             filename      mfcc_1     mfcc_2     mfcc_3     mfcc_4     mfcc_5  \\\n",
      "0  OAF_back_angry.wav -390.031342  55.235966 -15.034652 -10.704581  -6.318040   \n",
      "1   OAF_bar_angry.wav -451.019470  67.048828  -0.448257 -16.812130 -14.137628   \n",
      "2  OAF_base_angry.wav -406.563324  28.609009  -5.317216   2.124630  -3.238453   \n",
      "3  OAF_bath_angry.wav -386.340027  53.439651  -8.663545 -13.309978  -5.566482   \n",
      "4  OAF_bean_angry.wav -404.784882  54.462566   3.355291  10.967580   2.167008   \n",
      "\n",
      "      mfcc_6     mfcc_7     mfcc_8     mfcc_9    mfcc_10    mfcc_11   mfcc_12  \\\n",
      "0   9.424743 -20.741861 -12.001624  -7.151768  -7.919952   1.646008 -0.940951   \n",
      "1  12.182583  -8.768965  -0.833088 -12.662773   1.033061  -7.188157  3.722568   \n",
      "2   5.009407 -20.190369  -2.519338 -12.905816  -1.877587 -11.231725  2.015583   \n",
      "3   8.417089 -18.068228 -11.134798 -10.535916  -8.044547   0.351155 -1.321829   \n",
      "4   6.005213 -25.438648   4.935778 -12.994334 -16.313234 -10.588128 -5.183738   \n",
      "\n",
      "    mfcc_13  \n",
      "0  2.213203  \n",
      "1  4.862129  \n",
      "2  3.097071  \n",
      "3  2.518441  \n",
      "4 -4.256831  \n"
     ]
    }
   ],
   "source": [
    "import pandas as pd\n",
    "\n",
    "features = []\n",
    "\n",
    "for audio_file in audio_files:\n",
    "    file_path = os.path.join(audio_dir, audio_file)\n",
    "    audio, sr = librosa.load(file_path, sr=None)\n",
    "    mfccs = librosa.feature.mfcc(y=audio, sr=sr, n_mfcc=13)\n",
    "    mfccs_mean = np.mean(mfccs, axis=1)\n",
    "    features.append([audio_file] + mfccs_mean.tolist())\n",
    "\n",
    "columns = ['filename'] + [f'mfcc_{i+1}' for i in range(13)]\n",
    "df = pd.DataFrame(features, columns=columns)\n",
    "print(df.head())"
   ]
  },
  {
   "cell_type": "markdown",
   "id": "8d313c35",
   "metadata": {},
   "source": [
    "# MFCC from Angry Audio"
   ]
  },
  {
   "cell_type": "code",
   "execution_count": 109,
   "id": "21b39046",
   "metadata": {},
   "outputs": [
    {
     "name": "stdout",
     "output_type": "stream",
     "text": [
      "             filename      mfcc_1     mfcc_2     mfcc_3     mfcc_4     mfcc_5  \\\n",
      "0  OAF_back_angry.wav -390.031342  55.235966 -15.034652 -10.704581  -6.318040   \n",
      "1   OAF_bar_angry.wav -451.019470  67.048828  -0.448257 -16.812130 -14.137628   \n",
      "2  OAF_base_angry.wav -406.563324  28.609009  -5.317216   2.124630  -3.238453   \n",
      "3  OAF_bath_angry.wav -386.340027  53.439651  -8.663545 -13.309978  -5.566482   \n",
      "4  OAF_bean_angry.wav -404.784882  54.462566   3.355291  10.967580   2.167008   \n",
      "\n",
      "      mfcc_6     mfcc_7     mfcc_8     mfcc_9    mfcc_10    mfcc_11   mfcc_12  \\\n",
      "0   9.424743 -20.741861 -12.001624  -7.151768  -7.919952   1.646008 -0.940951   \n",
      "1  12.182583  -8.768965  -0.833088 -12.662773   1.033061  -7.188157  3.722568   \n",
      "2   5.009407 -20.190369  -2.519338 -12.905816  -1.877587 -11.231725  2.015583   \n",
      "3   8.417089 -18.068228 -11.134798 -10.535916  -8.044547   0.351155 -1.321829   \n",
      "4   6.005213 -25.438648   4.935778 -12.994334 -16.313234 -10.588128 -5.183738   \n",
      "\n",
      "    mfcc_13  label  \n",
      "0  2.213203  angry  \n",
      "1  4.862129  angry  \n",
      "2  3.097071  angry  \n",
      "3  2.518441  angry  \n",
      "4 -4.256831  angry  \n"
     ]
    }
   ],
   "source": [
    "df['label'] = 'angry'  # Ya filename se extract karen agar multiple emotions hain\n",
    "print(df.head())"
   ]
  },
  {
   "cell_type": "code",
   "execution_count": 110,
   "id": "c67abc3a",
   "metadata": {},
   "outputs": [],
   "source": [
    "df.to_csv('mfcc_features_angry.csv', index=False)"
   ]
  },
  {
   "cell_type": "code",
   "execution_count": 111,
   "id": "69082681",
   "metadata": {},
   "outputs": [
    {
     "name": "stdout",
     "output_type": "stream",
     "text": [
      "             filename      mfcc_1     mfcc_2     mfcc_3     mfcc_4     mfcc_5  \\\n",
      "0  OAF_back_angry.wav -390.031342  55.235966 -15.034652 -10.704581  -6.318040   \n",
      "1   OAF_bar_angry.wav -451.019470  67.048828  -0.448257 -16.812130 -14.137628   \n",
      "2  OAF_base_angry.wav -406.563324  28.609009  -5.317216   2.124630  -3.238453   \n",
      "3  OAF_bath_angry.wav -386.340027  53.439651  -8.663545 -13.309978  -5.566482   \n",
      "4  OAF_bean_angry.wav -404.784882  54.462566   3.355291  10.967580   2.167008   \n",
      "\n",
      "      mfcc_6     mfcc_7     mfcc_8     mfcc_9    mfcc_10    mfcc_11   mfcc_12  \\\n",
      "0   9.424743 -20.741861 -12.001624  -7.151768  -7.919952   1.646008 -0.940951   \n",
      "1  12.182583  -8.768965  -0.833088 -12.662773   1.033061  -7.188157  3.722568   \n",
      "2   5.009407 -20.190369  -2.519338 -12.905816  -1.877587 -11.231725  2.015583   \n",
      "3   8.417089 -18.068228 -11.134798 -10.535916  -8.044547   0.351155 -1.321829   \n",
      "4   6.005213 -25.438648   4.935778 -12.994334 -16.313234 -10.588128 -5.183738   \n",
      "\n",
      "    mfcc_13  label  \n",
      "0  2.213203  angry  \n",
      "1  4.862129  angry  \n",
      "2  3.097071  angry  \n",
      "3  2.518441  angry  \n",
      "4 -4.256831  angry  \n"
     ]
    }
   ],
   "source": [
    "df_check = pd.read_csv('mfcc_features_angry.csv')\n",
    "print(df_check.head())"
   ]
  },
  {
   "cell_type": "code",
   "execution_count": 112,
   "id": "e7f1bc9e",
   "metadata": {},
   "outputs": [
    {
     "data": {
      "text/html": [
       "<a href='mfcc_features_angry.csv' target='_blank'>mfcc_features_angry.csv</a><br>"
      ],
      "text/plain": [
       "d:\\AI ML\\Internship work\\mfcc_features_angry.csv"
      ]
     },
     "execution_count": 112,
     "metadata": {},
     "output_type": "execute_result"
    }
   ],
   "source": [
    "import IPython\n",
    "IPython.display.FileLink('mfcc_features_angry.csv')"
   ]
  },
  {
   "cell_type": "markdown",
   "id": "b335dee3",
   "metadata": {},
   "source": [
    "# MFCC from Happy Audio"
   ]
  },
  {
   "cell_type": "code",
   "execution_count": 113,
   "id": "d87c553f",
   "metadata": {},
   "outputs": [],
   "source": [
    "# Happy emotion ke liye\n",
    "audio_dir = r\"D:\\AI ML\\Internship work\\TESS Toronto emotional speech set data\\OAF_happy\"\n",
    "audio_files = [f for f in os.listdir(audio_dir) if f.endswith(('.wav', '.mp3', '.ogg', '.flac'))]\n",
    "\n"
   ]
  },
  {
   "cell_type": "code",
   "execution_count": 114,
   "id": "d98b4ba3",
   "metadata": {},
   "outputs": [],
   "source": [
    "features = []\n",
    "for audio_file in audio_files:\n",
    "    file_path = os.path.join(audio_dir, audio_file)\n",
    "    audio, sr = librosa.load(file_path, sr=None)\n",
    "    mfccs = librosa.feature.mfcc(y=audio, sr=sr, n_mfcc=13)\n",
    "    mfccs_mean = np.mean(mfccs, axis=1)\n",
    "    features.append([audio_file] + mfccs_mean.tolist())\n",
    "\n",
    "columns = ['filename'] + [f'mfcc_{i+1}' for i in range(13)]\n"
   ]
  },
  {
   "cell_type": "code",
   "execution_count": 115,
   "id": "0ecb2592",
   "metadata": {},
   "outputs": [],
   "source": [
    "df = pd.DataFrame(features, columns=columns)\n",
    "df['label'] = 'happy'\n",
    "df.to_csv('mfcc_features_happy.csv', index=False)"
   ]
  },
  {
   "cell_type": "code",
   "execution_count": 116,
   "id": "1c774833",
   "metadata": {},
   "outputs": [
    {
     "data": {
      "text/html": [
       "<a href='mfcc_features_happy.csv' target='_blank'>mfcc_features_happy.csv</a><br>"
      ],
      "text/plain": [
       "d:\\AI ML\\Internship work\\mfcc_features_happy.csv"
      ]
     },
     "execution_count": 116,
     "metadata": {},
     "output_type": "execute_result"
    }
   ],
   "source": [
    "import IPython\n",
    "\n",
    "# Happy\n",
    "IPython.display.FileLink('mfcc_features_happy.csv')"
   ]
  },
  {
   "cell_type": "markdown",
   "id": "7f4b7ea0",
   "metadata": {},
   "source": [
    "# MFCC from Sad Audio"
   ]
  },
  {
   "cell_type": "code",
   "execution_count": 117,
   "id": "19143693",
   "metadata": {},
   "outputs": [],
   "source": [
    "# Sad emotion ke liye\n",
    "audio_dir = r\"D:\\AI ML\\Internship work\\TESS Toronto emotional speech set data\\OAF_sad\"\n",
    "audio_files = [f for f in os.listdir(audio_dir) if f.endswith(('.wav', '.mp3', '.ogg', '.flac'))]\n",
    "\n"
   ]
  },
  {
   "cell_type": "code",
   "execution_count": 118,
   "id": "80fb2987",
   "metadata": {},
   "outputs": [],
   "source": [
    "features = []\n",
    "for audio_file in audio_files:\n",
    "    file_path = os.path.join(audio_dir, audio_file)\n",
    "    audio, sr = librosa.load(file_path, sr=None)\n",
    "    mfccs = librosa.feature.mfcc(y=audio, sr=sr, n_mfcc=13)\n",
    "    mfccs_mean = np.mean(mfccs, axis=1)\n",
    "    features.append([audio_file] + mfccs_mean.tolist())\n",
    "\n"
   ]
  },
  {
   "cell_type": "code",
   "execution_count": 119,
   "id": "ce053a67",
   "metadata": {},
   "outputs": [],
   "source": [
    "columns = ['filename'] + [f'mfcc_{i+1}' for i in range(13)]\n",
    "df = pd.DataFrame(features, columns=columns)\n",
    "df['label'] = 'sad'\n",
    "df.to_csv('mfcc_features_sad.csv', index=False)"
   ]
  },
  {
   "cell_type": "code",
   "execution_count": 120,
   "id": "3e5ca0be",
   "metadata": {},
   "outputs": [
    {
     "data": {
      "text/html": [
       "<a href='mfcc_features_sad.csv' target='_blank'>mfcc_features_sad.csv</a><br>"
      ],
      "text/plain": [
       "d:\\AI ML\\Internship work\\mfcc_features_sad.csv"
      ]
     },
     "execution_count": 120,
     "metadata": {},
     "output_type": "execute_result"
    }
   ],
   "source": [
    "import IPython\n",
    "\n",
    "# Sad\n",
    "IPython.display.FileLink('mfcc_features_sad.csv')"
   ]
  },
  {
   "cell_type": "markdown",
   "id": "c5fa1aa2",
   "metadata": {},
   "source": [
    "# MFCC from Fear Audio"
   ]
  },
  {
   "cell_type": "code",
   "execution_count": 121,
   "id": "376d3868",
   "metadata": {},
   "outputs": [],
   "source": [
    "# Fear emotion ke liye\n",
    "audio_dir = r\"D:\\AI ML\\Internship work\\TESS Toronto emotional speech set data\\OAF_fear\"\n",
    "audio_files = [f for f in os.listdir(audio_dir) if f.endswith(('.wav', '.mp3', '.ogg', '.flac'))]\n",
    "\n"
   ]
  },
  {
   "cell_type": "code",
   "execution_count": 122,
   "metadata": {},
   "outputs": [],
   "source": [
    "features = []\n",
    "for audio_file in audio_files:\n",
    "    file_path = os.path.join(audio_dir, audio_file)\n",
    "    audio, sr = librosa.load(file_path, sr=None)\n",
    "    mfccs = librosa.feature.mfcc(y=audio, sr=sr, n_mfcc=13)\n",
    "    mfccs_mean = np.mean(mfccs, axis=1)\n",
    "    features.append([audio_file] + mfccs_mean.tolist())\n",
    "\n"
   ]
  },
  {
   "cell_type": "code",
   "execution_count": 123,
   "id": "0a8f9540",
   "metadata": {},
   "outputs": [],
   "source": [
    "columns = ['filename'] + [f'mfcc_{i+1}' for i in range(13)]\n",
    "df = pd.DataFrame(features, columns=columns)\n",
    "df['label'] = 'fear'\n",
    "df.to_csv('mfcc_features_fear.csv', index=False)"
   ]
  },
  {
   "cell_type": "code",
   "execution_count": 124,
   "id": "da69f372",
   "metadata": {},
   "outputs": [
    {
     "data": {
      "text/html": [
       "<a href='mfcc_features_fear.csv' target='_blank'>mfcc_features_fear.csv</a><br>"
      ],
      "text/plain": [
       "d:\\AI ML\\Internship work\\mfcc_features_fear.csv"
      ]
     },
     "execution_count": 124,
     "metadata": {},
     "output_type": "execute_result"
    }
   ],
   "source": [
    "import IPython\n",
    "\n",
    "# Fear\n",
    "IPython.display.FileLink('mfcc_features_fear.csv')"
   ]
  },
  {
   "cell_type": "markdown",
   "id": "3d1a244c",
   "metadata": {},
   "source": [
    "# Load all CSV files "
   ]
  },
  {
   "cell_type": "code",
   "execution_count": 125,
   "id": "b7f5d649",
   "metadata": {},
   "outputs": [],
   "source": [
    "import pandas as pd"
   ]
  },
  {
   "cell_type": "code",
   "execution_count": 126,
   "id": "d3c8011d",
   "metadata": {},
   "outputs": [],
   "source": [
    "# Sabhi CSV files ko load karo\n",
    "df_angry = pd.read_csv('mfcc_features_angry.csv')\n",
    "df_happy = pd.read_csv('mfcc_features_happy.csv')\n",
    "df_sad = pd.read_csv('mfcc_features_sad.csv')\n",
    "df_fear = pd.read_csv('mfcc_features_fear.csv')\n"
   ]
  },
  {
   "cell_type": "markdown",
   "id": "2577c250",
   "metadata": {},
   "source": [
    "# Combine all"
   ]
  },
  {
   "cell_type": "code",
   "execution_count": 127,
   "id": "09211ecc",
   "metadata": {},
   "outputs": [],
   "source": [
    "\n",
    "df_all = pd.concat([df_angry, df_happy, df_sad, df_fear], ignore_index=True)\n"
   ]
  },
  {
   "cell_type": "code",
   "execution_count": 128,
   "id": "9be5386f",
   "metadata": {},
   "outputs": [
    {
     "name": "stdout",
     "output_type": "stream",
     "text": [
      "             filename      mfcc_1     mfcc_2     mfcc_3     mfcc_4     mfcc_5  \\\n",
      "0  OAF_back_angry.wav -390.031342  55.235966 -15.034652 -10.704581  -6.318040   \n",
      "1   OAF_bar_angry.wav -451.019470  67.048828  -0.448257 -16.812130 -14.137628   \n",
      "2  OAF_base_angry.wav -406.563324  28.609009  -5.317216   2.124630  -3.238453   \n",
      "3  OAF_bath_angry.wav -386.340027  53.439651  -8.663545 -13.309978  -5.566482   \n",
      "4  OAF_bean_angry.wav -404.784882  54.462566   3.355291  10.967580   2.167008   \n",
      "\n",
      "      mfcc_6     mfcc_7     mfcc_8     mfcc_9    mfcc_10    mfcc_11   mfcc_12  \\\n",
      "0   9.424743 -20.741861 -12.001624  -7.151768  -7.919952   1.646008 -0.940951   \n",
      "1  12.182583  -8.768965  -0.833088 -12.662773   1.033061  -7.188157  3.722568   \n",
      "2   5.009407 -20.190369  -2.519338 -12.905816  -1.877587 -11.231725  2.015583   \n",
      "3   8.417089 -18.068228 -11.134798 -10.535916  -8.044547   0.351155 -1.321829   \n",
      "4   6.005213 -25.438648   4.935778 -12.994334 -16.313234 -10.588128 -5.183738   \n",
      "\n",
      "    mfcc_13  label  \n",
      "0  2.213203  angry  \n",
      "1  4.862129  angry  \n",
      "2  3.097071  angry  \n",
      "3  2.518441  angry  \n",
      "4 -4.256831  angry  \n",
      "label\n",
      "angry    200\n",
      "happy    200\n",
      "sad      200\n",
      "fear     200\n",
      "Name: count, dtype: int64\n"
     ]
    }
   ],
   "source": [
    "# Result dekh lo\n",
    "print(df_all.head())\n",
    "print(df_all['label'].value_counts())\n",
    "\n"
   ]
  },
  {
   "cell_type": "code",
   "execution_count": 129,
   "id": "ca01a403",
   "metadata": {},
   "outputs": [],
   "source": [
    "df_all.to_csv('mfcc_features_all.csv', index=False)\n",
    "\n"
   ]
  },
  {
   "cell_type": "code",
   "execution_count": 130,
   "id": "bfe467b5",
   "metadata": {},
   "outputs": [
    {
     "data": {
      "text/html": [
       "<a href='mfcc_features_all.csv' target='_blank'>mfcc_features_all.csv</a><br>"
      ],
      "text/plain": [
       "d:\\AI ML\\Internship work\\mfcc_features_all.csv"
      ]
     },
     "execution_count": 130,
     "metadata": {},
     "output_type": "execute_result"
    }
   ],
   "source": [
    "import IPython\n",
    "IPython.display.FileLink('mfcc_features_all.csv')"
   ]
  },
  {
   "cell_type": "markdown",
   "id": "75b15da2",
   "metadata": {},
   "source": [
    "# Split Features & Labels"
   ]
  },
  {
   "cell_type": "code",
   "execution_count": 131,
   "id": "5a0971fb",
   "metadata": {},
   "outputs": [],
   "source": [
    "# Features: sirf MFCC columns (filename aur label ko hata dein)\n",
    "X = df_all.drop(['filename', 'label'], axis=1).values\n",
    "\n"
   ]
  },
  {
   "cell_type": "code",
   "execution_count": 132,
   "id": "c415e10c",
   "metadata": {},
   "outputs": [
    {
     "name": "stdout",
     "output_type": "stream",
     "text": [
      "(800, 13)\n",
      "(800,)\n"
     ]
    }
   ],
   "source": [
    "# Labels: sirf label column\n",
    "y = df_all['label'].values\n",
    "\n",
    "print(X.shape)\n",
    "print(y.shape)"
   ]
  },
  {
   "cell_type": "markdown",
   "id": "20a14273",
   "metadata": {},
   "source": [
    "# Label Encoding"
   ]
  },
  {
   "cell_type": "code",
   "execution_count": 133,
   "id": "1c1e8e93",
   "metadata": {},
   "outputs": [],
   "source": [
    "from sklearn.preprocessing import LabelEncoder\n"
   ]
  },
  {
   "cell_type": "code",
   "execution_count": 134,
   "id": "b44d0442",
   "metadata": {},
   "outputs": [],
   "source": [
    "le = LabelEncoder()\n",
    "y_encoded = le.fit_transform(y)\n"
   ]
  },
  {
   "cell_type": "code",
   "execution_count": 135,
   "id": "6c2b4bf0",
   "metadata": {},
   "outputs": [
    {
     "name": "stdout",
     "output_type": "stream",
     "text": [
      "['angry' 'angry' 'angry' 'angry' 'angry' 'angry' 'angry' 'angry' 'angry'\n",
      " 'angry']\n",
      "[0 0 0 0 0 0 0 0 0 0]\n",
      "['angry' 'fear' 'happy' 'sad']\n"
     ]
    }
   ],
   "source": [
    "\n",
    "print(y[:10])         # Original labels\n",
    "print(y_encoded[:10]) # Encoded labels\n",
    "print(le.classes_)    # Label mapping"
   ]
  },
  {
   "cell_type": "markdown",
   "id": "f7d5e6f0",
   "metadata": {},
   "source": [
    "# Train_Test_Split"
   ]
  },
  {
   "cell_type": "code",
   "execution_count": 136,
   "id": "ae112cbb",
   "metadata": {},
   "outputs": [],
   "source": [
    "from sklearn.model_selection import train_test_split\n",
    "\n"
   ]
  },
  {
   "cell_type": "code",
   "execution_count": 137,
   "id": "9eb0b459",
   "metadata": {},
   "outputs": [],
   "source": [
    "\n",
    "X_train, X_test, y_train, y_test = train_test_split(X, y_encoded, test_size=0.2, random_state=42, stratify=y_encoded)\n"
   ]
  },
  {
   "cell_type": "code",
   "execution_count": 138,
   "id": "0eedb2f2",
   "metadata": {},
   "outputs": [
    {
     "name": "stdout",
     "output_type": "stream",
     "text": [
      "(640, 13) (160, 13)\n",
      "(640,) (160,)\n"
     ]
    }
   ],
   "source": [
    "\n",
    "print(X_train.shape, X_test.shape)\n",
    "print(y_train.shape, y_test.shape)"
   ]
  },
  {
   "cell_type": "markdown",
   "id": "fcaf72f6",
   "metadata": {},
   "source": [
    "# Deep Learning Model Building"
   ]
  },
  {
   "cell_type": "code",
   "execution_count": 139,
   "id": "829e0685",
   "metadata": {},
   "outputs": [],
   "source": [
    "import numpy as np\n",
    "from tensorflow.keras.models import Sequential\n",
    "from tensorflow.keras.layers import LSTM, Dense\n",
    "from tensorflow.keras.utils import to_categorical\n",
    "\n"
   ]
  },
  {
   "cell_type": "code",
   "execution_count": 140,
   "id": "f3a63b49",
   "metadata": {},
   "outputs": [],
   "source": [
    "\n",
    "num_classes = len(np.unique(y_train))\n",
    "y_train_cat = to_categorical(y_train, num_classes)\n",
    "y_test_cat = to_categorical(y_test, num_classes)\n"
   ]
  },
  {
   "cell_type": "code",
   "execution_count": 141,
   "id": "6520583e",
   "metadata": {},
   "outputs": [],
   "source": [
    "\n",
    "X_train_lstm = X_train.reshape((X_train.shape[0], 1, X_train.shape[1]))\n",
    "X_test_lstm = X_test.reshape((X_test.shape[0], 1, X_test.shape[1]))\n"
   ]
  },
  {
   "cell_type": "code",
   "execution_count": 142,
   "id": "3e17be74",
   "metadata": {},
   "outputs": [
    {
     "name": "stderr",
     "output_type": "stream",
     "text": [
      "c:\\Users\\Subhan Computers\\AppData\\Local\\Programs\\Python\\Python313\\Lib\\site-packages\\keras\\src\\layers\\rnn\\rnn.py:199: UserWarning: Do not pass an `input_shape`/`input_dim` argument to a layer. When using Sequential models, prefer using an `Input(shape)` object as the first layer in the model instead.\n",
      "  super().__init__(**kwargs)\n"
     ]
    },
    {
     "data": {
      "text/html": [
       "<pre style=\"white-space:pre;overflow-x:auto;line-height:normal;font-family:Menlo,'DejaVu Sans Mono',consolas,'Courier New',monospace\"><span style=\"font-weight: bold\">Model: \"sequential_3\"</span>\n",
       "</pre>\n"
      ],
      "text/plain": [
       "\u001b[1mModel: \"sequential_3\"\u001b[0m\n"
      ]
     },
     "metadata": {},
     "output_type": "display_data"
    },
    {
     "data": {
      "text/html": [
       "<pre style=\"white-space:pre;overflow-x:auto;line-height:normal;font-family:Menlo,'DejaVu Sans Mono',consolas,'Courier New',monospace\">┏━━━━━━━━━━━━━━━━━━━━━━━━━━━━━━━━━┳━━━━━━━━━━━━━━━━━━━━━━━━┳━━━━━━━━━━━━━━━┓\n",
       "┃<span style=\"font-weight: bold\"> Layer (type)                    </span>┃<span style=\"font-weight: bold\"> Output Shape           </span>┃<span style=\"font-weight: bold\">       Param # </span>┃\n",
       "┡━━━━━━━━━━━━━━━━━━━━━━━━━━━━━━━━━╇━━━━━━━━━━━━━━━━━━━━━━━━╇━━━━━━━━━━━━━━━┩\n",
       "│ lstm_3 (<span style=\"color: #0087ff; text-decoration-color: #0087ff\">LSTM</span>)                   │ (<span style=\"color: #00d7ff; text-decoration-color: #00d7ff\">None</span>, <span style=\"color: #00af00; text-decoration-color: #00af00\">64</span>)             │        <span style=\"color: #00af00; text-decoration-color: #00af00\">19,968</span> │\n",
       "├─────────────────────────────────┼────────────────────────┼───────────────┤\n",
       "│ dense_6 (<span style=\"color: #0087ff; text-decoration-color: #0087ff\">Dense</span>)                 │ (<span style=\"color: #00d7ff; text-decoration-color: #00d7ff\">None</span>, <span style=\"color: #00af00; text-decoration-color: #00af00\">32</span>)             │         <span style=\"color: #00af00; text-decoration-color: #00af00\">2,080</span> │\n",
       "├─────────────────────────────────┼────────────────────────┼───────────────┤\n",
       "│ dense_7 (<span style=\"color: #0087ff; text-decoration-color: #0087ff\">Dense</span>)                 │ (<span style=\"color: #00d7ff; text-decoration-color: #00d7ff\">None</span>, <span style=\"color: #00af00; text-decoration-color: #00af00\">4</span>)              │           <span style=\"color: #00af00; text-decoration-color: #00af00\">132</span> │\n",
       "└─────────────────────────────────┴────────────────────────┴───────────────┘\n",
       "</pre>\n"
      ],
      "text/plain": [
       "┏━━━━━━━━━━━━━━━━━━━━━━━━━━━━━━━━━┳━━━━━━━━━━━━━━━━━━━━━━━━┳━━━━━━━━━━━━━━━┓\n",
       "┃\u001b[1m \u001b[0m\u001b[1mLayer (type)                   \u001b[0m\u001b[1m \u001b[0m┃\u001b[1m \u001b[0m\u001b[1mOutput Shape          \u001b[0m\u001b[1m \u001b[0m┃\u001b[1m \u001b[0m\u001b[1m      Param #\u001b[0m\u001b[1m \u001b[0m┃\n",
       "┡━━━━━━━━━━━━━━━━━━━━━━━━━━━━━━━━━╇━━━━━━━━━━━━━━━━━━━━━━━━╇━━━━━━━━━━━━━━━┩\n",
       "│ lstm_3 (\u001b[38;5;33mLSTM\u001b[0m)                   │ (\u001b[38;5;45mNone\u001b[0m, \u001b[38;5;34m64\u001b[0m)             │        \u001b[38;5;34m19,968\u001b[0m │\n",
       "├─────────────────────────────────┼────────────────────────┼───────────────┤\n",
       "│ dense_6 (\u001b[38;5;33mDense\u001b[0m)                 │ (\u001b[38;5;45mNone\u001b[0m, \u001b[38;5;34m32\u001b[0m)             │         \u001b[38;5;34m2,080\u001b[0m │\n",
       "├─────────────────────────────────┼────────────────────────┼───────────────┤\n",
       "│ dense_7 (\u001b[38;5;33mDense\u001b[0m)                 │ (\u001b[38;5;45mNone\u001b[0m, \u001b[38;5;34m4\u001b[0m)              │           \u001b[38;5;34m132\u001b[0m │\n",
       "└─────────────────────────────────┴────────────────────────┴───────────────┘\n"
      ]
     },
     "metadata": {},
     "output_type": "display_data"
    },
    {
     "data": {
      "text/html": [
       "<pre style=\"white-space:pre;overflow-x:auto;line-height:normal;font-family:Menlo,'DejaVu Sans Mono',consolas,'Courier New',monospace\"><span style=\"font-weight: bold\"> Total params: </span><span style=\"color: #00af00; text-decoration-color: #00af00\">22,180</span> (86.64 KB)\n",
       "</pre>\n"
      ],
      "text/plain": [
       "\u001b[1m Total params: \u001b[0m\u001b[38;5;34m22,180\u001b[0m (86.64 KB)\n"
      ]
     },
     "metadata": {},
     "output_type": "display_data"
    },
    {
     "data": {
      "text/html": [
       "<pre style=\"white-space:pre;overflow-x:auto;line-height:normal;font-family:Menlo,'DejaVu Sans Mono',consolas,'Courier New',monospace\"><span style=\"font-weight: bold\"> Trainable params: </span><span style=\"color: #00af00; text-decoration-color: #00af00\">22,180</span> (86.64 KB)\n",
       "</pre>\n"
      ],
      "text/plain": [
       "\u001b[1m Trainable params: \u001b[0m\u001b[38;5;34m22,180\u001b[0m (86.64 KB)\n"
      ]
     },
     "metadata": {},
     "output_type": "display_data"
    },
    {
     "data": {
      "text/html": [
       "<pre style=\"white-space:pre;overflow-x:auto;line-height:normal;font-family:Menlo,'DejaVu Sans Mono',consolas,'Courier New',monospace\"><span style=\"font-weight: bold\"> Non-trainable params: </span><span style=\"color: #00af00; text-decoration-color: #00af00\">0</span> (0.00 B)\n",
       "</pre>\n"
      ],
      "text/plain": [
       "\u001b[1m Non-trainable params: \u001b[0m\u001b[38;5;34m0\u001b[0m (0.00 B)\n"
      ]
     },
     "metadata": {},
     "output_type": "display_data"
    }
   ],
   "source": [
    "\n",
    "model = Sequential()\n",
    "model.add(LSTM(64, input_shape=(1, X_train.shape[1])))\n",
    "model.add(Dense(32, activation='relu'))\n",
    "model.add(Dense(num_classes, activation='softmax'))\n",
    "\n",
    "model.compile(optimizer='adam', loss='categorical_crossentropy', metrics=['accuracy'])\n",
    "model.summary()"
   ]
  },
  {
   "cell_type": "code",
   "execution_count": 143,
   "id": "ef6a0085",
   "metadata": {},
   "outputs": [],
   "source": [
    "model.compile(optimizer='adam',loss='categorical_crossentropy',metrics=['accuracy'])\n"
   ]
  },
  {
   "cell_type": "code",
   "execution_count": 144,
   "id": "c698cb50",
   "metadata": {},
   "outputs": [
    {
     "name": "stdout",
     "output_type": "stream",
     "text": [
      "Epoch 1/30\n",
      "\u001b[1m20/20\u001b[0m \u001b[32m━━━━━━━━━━━━━━━━━━━━\u001b[0m\u001b[37m\u001b[0m \u001b[1m3s\u001b[0m 33ms/step - accuracy: 0.3703 - loss: 1.3761 - val_accuracy: 0.5813 - val_loss: 1.3290\n",
      "Epoch 2/30\n",
      "\u001b[1m20/20\u001b[0m \u001b[32m━━━━━━━━━━━━━━━━━━━━\u001b[0m\u001b[37m\u001b[0m \u001b[1m0s\u001b[0m 8ms/step - accuracy: 0.7344 - loss: 1.2480 - val_accuracy: 0.7750 - val_loss: 1.1658\n",
      "Epoch 3/30\n",
      "\u001b[1m20/20\u001b[0m \u001b[32m━━━━━━━━━━━━━━━━━━━━\u001b[0m\u001b[37m\u001b[0m \u001b[1m0s\u001b[0m 10ms/step - accuracy: 0.8313 - loss: 1.0652 - val_accuracy: 0.8562 - val_loss: 0.9548\n",
      "Epoch 4/30\n",
      "\u001b[1m20/20\u001b[0m \u001b[32m━━━━━━━━━━━━━━━━━━━━\u001b[0m\u001b[37m\u001b[0m \u001b[1m0s\u001b[0m 8ms/step - accuracy: 0.8906 - loss: 0.8511 - val_accuracy: 0.8875 - val_loss: 0.7657\n",
      "Epoch 5/30\n",
      "\u001b[1m20/20\u001b[0m \u001b[32m━━━━━━━━━━━━━━━━━━━━\u001b[0m\u001b[37m\u001b[0m \u001b[1m0s\u001b[0m 8ms/step - accuracy: 0.9328 - loss: 0.6672 - val_accuracy: 0.9312 - val_loss: 0.5949\n",
      "Epoch 6/30\n",
      "\u001b[1m20/20\u001b[0m \u001b[32m━━━━━━━━━━━━━━━━━━━━\u001b[0m\u001b[37m\u001b[0m \u001b[1m0s\u001b[0m 10ms/step - accuracy: 0.9438 - loss: 0.5189 - val_accuracy: 0.9250 - val_loss: 0.4594\n",
      "Epoch 7/30\n",
      "\u001b[1m20/20\u001b[0m \u001b[32m━━━━━━━━━━━━━━━━━━━━\u001b[0m\u001b[37m\u001b[0m \u001b[1m0s\u001b[0m 10ms/step - accuracy: 0.9594 - loss: 0.4015 - val_accuracy: 0.9438 - val_loss: 0.3615\n",
      "Epoch 8/30\n",
      "\u001b[1m20/20\u001b[0m \u001b[32m━━━━━━━━━━━━━━━━━━━━\u001b[0m\u001b[37m\u001b[0m \u001b[1m0s\u001b[0m 9ms/step - accuracy: 0.9625 - loss: 0.3119 - val_accuracy: 0.9563 - val_loss: 0.2827\n",
      "Epoch 9/30\n",
      "\u001b[1m20/20\u001b[0m \u001b[32m━━━━━━━━━━━━━━━━━━━━\u001b[0m\u001b[37m\u001b[0m \u001b[1m0s\u001b[0m 8ms/step - accuracy: 0.9656 - loss: 0.2496 - val_accuracy: 0.9625 - val_loss: 0.2263\n",
      "Epoch 10/30\n",
      "\u001b[1m20/20\u001b[0m \u001b[32m━━━━━━━━━━━━━━━━━━━━\u001b[0m\u001b[37m\u001b[0m \u001b[1m0s\u001b[0m 10ms/step - accuracy: 0.9609 - loss: 0.2020 - val_accuracy: 0.9625 - val_loss: 0.1862\n",
      "Epoch 11/30\n",
      "\u001b[1m20/20\u001b[0m \u001b[32m━━━━━━━━━━━━━━━━━━━━\u001b[0m\u001b[37m\u001b[0m \u001b[1m0s\u001b[0m 8ms/step - accuracy: 0.9750 - loss: 0.1625 - val_accuracy: 0.9750 - val_loss: 0.1492\n",
      "Epoch 12/30\n",
      "\u001b[1m20/20\u001b[0m \u001b[32m━━━━━━━━━━━━━━━━━━━━\u001b[0m\u001b[37m\u001b[0m \u001b[1m0s\u001b[0m 8ms/step - accuracy: 0.9688 - loss: 0.1396 - val_accuracy: 0.9750 - val_loss: 0.1413\n",
      "Epoch 13/30\n",
      "\u001b[1m20/20\u001b[0m \u001b[32m━━━━━━━━━━━━━━━━━━━━\u001b[0m\u001b[37m\u001b[0m \u001b[1m0s\u001b[0m 10ms/step - accuracy: 0.9750 - loss: 0.1189 - val_accuracy: 0.9750 - val_loss: 0.1199\n",
      "Epoch 14/30\n",
      "\u001b[1m20/20\u001b[0m \u001b[32m━━━━━━━━━━━━━━━━━━━━\u001b[0m\u001b[37m\u001b[0m \u001b[1m0s\u001b[0m 10ms/step - accuracy: 0.9797 - loss: 0.0989 - val_accuracy: 0.9750 - val_loss: 0.1009\n",
      "Epoch 15/30\n",
      "\u001b[1m20/20\u001b[0m \u001b[32m━━━━━━━━━━━━━━━━━━━━\u001b[0m\u001b[37m\u001b[0m \u001b[1m0s\u001b[0m 9ms/step - accuracy: 0.9828 - loss: 0.0892 - val_accuracy: 0.9688 - val_loss: 0.0985\n",
      "Epoch 16/30\n",
      "\u001b[1m20/20\u001b[0m \u001b[32m━━━━━━━━━━━━━━━━━━━━\u001b[0m\u001b[37m\u001b[0m \u001b[1m0s\u001b[0m 9ms/step - accuracy: 0.9781 - loss: 0.0839 - val_accuracy: 0.9937 - val_loss: 0.0907\n",
      "Epoch 17/30\n",
      "\u001b[1m20/20\u001b[0m \u001b[32m━━━━━━━━━━━━━━━━━━━━\u001b[0m\u001b[37m\u001b[0m \u001b[1m0s\u001b[0m 10ms/step - accuracy: 0.9734 - loss: 0.0897 - val_accuracy: 0.9812 - val_loss: 0.0911\n",
      "Epoch 18/30\n",
      "\u001b[1m20/20\u001b[0m \u001b[32m━━━━━━━━━━━━━━━━━━━━\u001b[0m\u001b[37m\u001b[0m \u001b[1m0s\u001b[0m 8ms/step - accuracy: 0.9766 - loss: 0.0810 - val_accuracy: 0.9812 - val_loss: 0.0747\n",
      "Epoch 19/30\n",
      "\u001b[1m20/20\u001b[0m \u001b[32m━━━━━━━━━━━━━━━━━━━━\u001b[0m\u001b[37m\u001b[0m \u001b[1m0s\u001b[0m 8ms/step - accuracy: 0.9812 - loss: 0.0676 - val_accuracy: 0.9812 - val_loss: 0.0760\n",
      "Epoch 20/30\n",
      "\u001b[1m20/20\u001b[0m \u001b[32m━━━━━━━━━━━━━━━━━━━━\u001b[0m\u001b[37m\u001b[0m \u001b[1m0s\u001b[0m 8ms/step - accuracy: 0.9797 - loss: 0.0612 - val_accuracy: 0.9688 - val_loss: 0.0766\n",
      "Epoch 21/30\n",
      "\u001b[1m20/20\u001b[0m \u001b[32m━━━━━━━━━━━━━━━━━━━━\u001b[0m\u001b[37m\u001b[0m \u001b[1m0s\u001b[0m 10ms/step - accuracy: 0.9906 - loss: 0.0540 - val_accuracy: 0.9875 - val_loss: 0.0621\n",
      "Epoch 22/30\n",
      "\u001b[1m20/20\u001b[0m \u001b[32m━━━━━━━━━━━━━━━━━━━━\u001b[0m\u001b[37m\u001b[0m \u001b[1m0s\u001b[0m 8ms/step - accuracy: 0.9875 - loss: 0.0521 - val_accuracy: 0.9812 - val_loss: 0.0640\n",
      "Epoch 23/30\n",
      "\u001b[1m20/20\u001b[0m \u001b[32m━━━━━━━━━━━━━━━━━━━━\u001b[0m\u001b[37m\u001b[0m \u001b[1m0s\u001b[0m 10ms/step - accuracy: 0.9859 - loss: 0.0562 - val_accuracy: 0.9875 - val_loss: 0.0611\n",
      "Epoch 24/30\n",
      "\u001b[1m20/20\u001b[0m \u001b[32m━━━━━━━━━━━━━━━━━━━━\u001b[0m\u001b[37m\u001b[0m \u001b[1m0s\u001b[0m 10ms/step - accuracy: 0.9859 - loss: 0.0526 - val_accuracy: 0.9875 - val_loss: 0.0622\n",
      "Epoch 25/30\n",
      "\u001b[1m20/20\u001b[0m \u001b[32m━━━━━━━━━━━━━━━━━━━━\u001b[0m\u001b[37m\u001b[0m \u001b[1m0s\u001b[0m 8ms/step - accuracy: 0.9828 - loss: 0.0485 - val_accuracy: 0.9937 - val_loss: 0.0560\n",
      "Epoch 26/30\n",
      "\u001b[1m20/20\u001b[0m \u001b[32m━━━━━━━━━━━━━━━━━━━━\u001b[0m\u001b[37m\u001b[0m \u001b[1m0s\u001b[0m 9ms/step - accuracy: 0.9844 - loss: 0.0562 - val_accuracy: 0.9812 - val_loss: 0.0644\n",
      "Epoch 27/30\n",
      "\u001b[1m20/20\u001b[0m \u001b[32m━━━━━━━━━━━━━━━━━━━━\u001b[0m\u001b[37m\u001b[0m \u001b[1m0s\u001b[0m 9ms/step - accuracy: 0.9891 - loss: 0.0453 - val_accuracy: 0.9937 - val_loss: 0.0602\n",
      "Epoch 28/30\n",
      "\u001b[1m20/20\u001b[0m \u001b[32m━━━━━━━━━━━━━━━━━━━━\u001b[0m\u001b[37m\u001b[0m \u001b[1m0s\u001b[0m 15ms/step - accuracy: 0.9844 - loss: 0.0437 - val_accuracy: 0.9875 - val_loss: 0.0530\n",
      "Epoch 29/30\n",
      "\u001b[1m20/20\u001b[0m \u001b[32m━━━━━━━━━━━━━━━━━━━━\u001b[0m\u001b[37m\u001b[0m \u001b[1m0s\u001b[0m 10ms/step - accuracy: 0.9844 - loss: 0.0394 - val_accuracy: 0.9937 - val_loss: 0.0514\n",
      "Epoch 30/30\n",
      "\u001b[1m20/20\u001b[0m \u001b[32m━━━━━━━━━━━━━━━━━━━━\u001b[0m\u001b[37m\u001b[0m \u001b[1m0s\u001b[0m 11ms/step - accuracy: 0.9844 - loss: 0.0372 - val_accuracy: 0.9937 - val_loss: 0.0493\n"
     ]
    }
   ],
   "source": [
    "\n",
    "history = model.fit(\n",
    "    X_train_lstm, y_train_cat,\n",
    "    epochs=30,\n",
    "    batch_size=32,           \n",
    "    validation_data=(X_test_lstm, y_test_cat)\n",
    ")"
   ]
  },
  {
   "cell_type": "markdown",
   "id": "3cd4caa7",
   "metadata": {},
   "source": [
    "# Comprehensive Model Evaluation "
   ]
  },
  {
   "cell_type": "code",
   "execution_count": null,
   "id": "fac37a55",
   "metadata": {},
   "outputs": [],
   "source": []
  },
  {
   "cell_type": "markdown",
   "id": "5bbd13c8",
   "metadata": {},
   "source": [
    "# 1. Predictions aur Metrics:"
   ]
  },
  {
   "cell_type": "code",
   "execution_count": 145,
   "id": "d0726f13",
   "metadata": {},
   "outputs": [],
   "source": [
    "from sklearn.metrics import classification_report, confusion_matrix, accuracy_score\n",
    "import numpy as np\n"
   ]
  },
  {
   "cell_type": "code",
   "execution_count": 146,
   "id": "77ff4a2a",
   "metadata": {},
   "outputs": [
    {
     "name": "stdout",
     "output_type": "stream",
     "text": [
      "\u001b[1m5/5\u001b[0m \u001b[32m━━━━━━━━━━━━━━━━━━━━\u001b[0m\u001b[37m\u001b[0m \u001b[1m0s\u001b[0m 7ms/step  \n"
     ]
    }
   ],
   "source": [
    "\n",
    "# Predictions (probabilities ko class labels me convert karein)\n",
    "y_pred_prob = model.predict(X_test_lstm)\n",
    "y_pred = np.argmax(y_pred_prob, axis=1)\n"
   ]
  },
  {
   "cell_type": "code",
   "execution_count": 147,
   "id": "32c1d816",
   "metadata": {},
   "outputs": [
    {
     "name": "stdout",
     "output_type": "stream",
     "text": [
      "Accuracy: 0.99375\n",
      "              precision    recall  f1-score   support\n",
      "\n",
      "       angry       1.00      1.00      1.00        40\n",
      "        fear       1.00      0.97      0.99        40\n",
      "       happy       0.98      1.00      0.99        40\n",
      "         sad       1.00      1.00      1.00        40\n",
      "\n",
      "    accuracy                           0.99       160\n",
      "   macro avg       0.99      0.99      0.99       160\n",
      "weighted avg       0.99      0.99      0.99       160\n",
      "\n"
     ]
    }
   ],
   "source": [
    "\n",
    "# Accuracy, Precision, Recall, F1-Score\n",
    "print(\"Accuracy:\", accuracy_score(y_test, y_pred))\n",
    "print(classification_report(y_test, y_pred, target_names=le.classes_))"
   ]
  },
  {
   "cell_type": "markdown",
   "id": "6a61aac5",
   "metadata": {},
   "source": [
    "# 2. Confusion Matrix Plot:"
   ]
  },
  {
   "cell_type": "code",
   "execution_count": 148,
   "id": "428c65ec",
   "metadata": {},
   "outputs": [],
   "source": [
    "import seaborn as sns\n",
    "import matplotlib.pyplot as plt\n"
   ]
  },
  {
   "cell_type": "code",
   "execution_count": 149,
   "id": "eb74eb6f",
   "metadata": {},
   "outputs": [
    {
     "data": {
      "image/png": "[encoded data removed]",
      "text/plain": [
       "<Figure size 600x500 with 2 Axes>"
      ]
     },
     "metadata": {},
     "output_type": "display_data"
    },
    {
     "data": {
      "text/plain": [
       "Text(0, 0.8, \"Confusion Matrix:\\nVisualizes the model's predictions vs actual labels for each emotion.\\nDiagonal values show correct predictions;\\noff-diagonal values show misclassifications.\")"
      ]
     },
     "execution_count": 149,
     "metadata": {},
     "output_type": "execute_result"
    },
    {
     "data": {
      "image/png": "[encoded data removed]",
      "text/plain": [
       "<Figure size 1200x200 with 1 Axes>"
      ]
     },
     "metadata": {},
     "output_type": "display_data"
    }
   ],
   "source": [
    "\n",
    "cm = confusion_matrix(y_test, y_pred)\n",
    "plt.figure(figsize=(6,5))\n",
    "sns.heatmap(cm, annot=True, fmt='d', cmap='Blues', xticklabels=le.classes_, yticklabels=le.classes_)\n",
    "plt.xlabel('Predicted')\n",
    "plt.ylabel('Actual')\n",
    "plt.title('Confusion Matrix')\n",
    "plt.show()\n",
    "\n",
    "plt.figure(figsize=(12,2))\n",
    "plt.axis('off')\n",
    "plt.text(\n",
    "    0, 0.8,\n",
    "    \"Confusion Matrix:\\n\"\n",
    "    \"Visualizes the model's predictions vs actual labels for each emotion.\\n\"\n",
    "    \"Diagonal values show correct predictions;\\n\"\n",
    "    \"off-diagonal values show misclassifications.\",\n",
    "    fontsize=12\n",
    ")"
   ]
  },
  {
   "cell_type": "markdown",
   "id": "1ab2d433",
   "metadata": {},
   "source": [
    "# 3. Training History Plot:"
   ]
  },
  {
   "cell_type": "code",
   "execution_count": 150,
   "id": "661cf46f",
   "metadata": {},
   "outputs": [
    {
     "data": {
      "text/plain": [
       "Text(0, 0.8, 'Accuracy Plot:\\nShows how well the model is learning and generalizing.\\nIf train and validation accuracy are close and high,\\nthe model is performing well.')"
      ]
     },
     "execution_count": 150,
     "metadata": {},
     "output_type": "execute_result"
    },
    {
     "data": {
      "image/png": "[encoded data removed]",
      "text/plain": [
       "<Figure size 1200x500 with 1 Axes>"
      ]
     },
     "metadata": {},
     "output_type": "display_data"
    },
    {
     "data": {
      "image/png": "[encoded data removed]",
      "text/plain": [
       "<Figure size 1200x200 with 1 Axes>"
      ]
     },
     "metadata": {},
     "output_type": "display_data"
    }
   ],
   "source": [
    "plt.figure(figsize=(12,5))\n",
    "plt.subplot(1,2,1)\n",
    "plt.plot(history.history['accuracy'], label='Train Accuracy')\n",
    "plt.plot(history.history['val_accuracy'], label='Val Accuracy')\n",
    "plt.legend()\n",
    "plt.title('Accuracy')\n",
    "\n",
    "\n",
    "plt.figure(figsize=(12,2))\n",
    "plt.axis('off')\n",
    "plt.text(\n",
    "    0, 0.8,\n",
    "    \"Accuracy Plot:\\n\"\n",
    "    \"Shows how well the model is learning and generalizing.\\n\"\n",
    "    \"If train and validation accuracy are close and high,\\n\"\n",
    "    \"the model is performing well.\",\n",
    "    fontsize=12\n",
    ")\n",
    "\n"
   ]
  },
  {
   "cell_type": "code",
   "execution_count": 151,
   "id": "18fac767",
   "metadata": {},
   "outputs": [
    {
     "data": {
      "image/png": "[encoded data removed]",
      "text/plain": [
       "<Figure size 1200x500 with 1 Axes>"
      ]
     },
     "metadata": {},
     "output_type": "display_data"
    },
    {
     "data": {
      "text/plain": [
       "Text(0, 0.8, 'Loss Plot:\\nDisplays the training and validation loss.\\nIf both losses decrease and stay low, the model is learning correctly.\\nLarge gaps may indicate overfitting.')"
      ]
     },
     "execution_count": 151,
     "metadata": {},
     "output_type": "execute_result"
    },
    {
     "data": {
      "image/png": "[encoded data removed]",
      "text/plain": [
       "<Figure size 1200x200 with 1 Axes>"
      ]
     },
     "metadata": {},
     "output_type": "display_data"
    }
   ],
   "source": [
    "plt.figure(figsize=(12,5))\n",
    "plt.subplot(1,2,2)\n",
    "plt.plot(history.history['loss'], label='Train Loss')\n",
    "plt.plot(history.history['val_loss'], label='Val Loss')\n",
    "plt.legend()\n",
    "plt.title('Loss')\n",
    "plt.show()\n",
    "\n",
    "\n",
    "plt.figure(figsize=(12,2))\n",
    "plt.axis('off')\n",
    "plt.text(\n",
    "    0, 0.8,\n",
    "    \"Loss Plot:\\n\"\n",
    "    \"Displays the training and validation loss.\\n\"\n",
    "    \"If both losses decrease and stay low, the model is learning correctly.\\n\"\n",
    "    \"Large gaps may indicate overfitting.\",\n",
    "    fontsize=12\n",
    ")\n"
   ]
  }
 ],
 "metadata": {
  "kernelspec": {
   "display_name": "Python 3",
   "language": "python",
   "name": "python3"
  },
  "language_info": {
   "codemirror_mode": {
    "name": "ipython",
    "version": 3
   },
   "file_extension": ".py",
   "mimetype": "text/x-python",
   "name": "python",
   "nbconvert_exporter": "python",
   "pygments_lexer": "ipython3",
   "version": "3.13.5"
  }
 },
 "nbformat": 4,
 "nbformat_minor": 5
}
